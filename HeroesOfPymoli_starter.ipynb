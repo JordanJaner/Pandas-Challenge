{
 "cells": [
  {
   "cell_type": "markdown",
   "metadata": {},
   "source": [
    "### Note\n",
    "* Instructions have been included for each segment. You do not have to follow them exactly, but they are included to help you think through the steps."
   ]
  },
  {
   "cell_type": "code",
   "execution_count": 10,
   "metadata": {},
   "outputs": [],
   "source": [
    "# Dependencies and Setup\n",
    "import pandas as pd\n",
    "import numpy as np\n",
    "\n",
    "# File to Load (Remember to Change These)\n",
    "file_to_load = \"Resources/purchase_data.csv\"\n",
    "\n",
    "# Read Purchasing File and store into Pandas data frame\n",
    "purchase_data = pd.read_csv(file_to_load)"
   ]
  },
  {
   "cell_type": "markdown",
   "metadata": {},
   "source": [
    "## Player Count"
   ]
  },
  {
   "cell_type": "markdown",
   "metadata": {},
   "source": [
    "* Display the total number of players\n"
   ]
  },
  {
   "cell_type": "code",
   "execution_count": 13,
   "metadata": {},
   "outputs": [
    {
     "data": {
      "text/html": [
       "<div>\n",
       "<style scoped>\n",
       "    .dataframe tbody tr th:only-of-type {\n",
       "        vertical-align: middle;\n",
       "    }\n",
       "\n",
       "    .dataframe tbody tr th {\n",
       "        vertical-align: top;\n",
       "    }\n",
       "\n",
       "    .dataframe thead th {\n",
       "        text-align: right;\n",
       "    }\n",
       "</style>\n",
       "<table border=\"1\" class=\"dataframe\">\n",
       "  <thead>\n",
       "    <tr style=\"text-align: right;\">\n",
       "      <th></th>\n",
       "      <th>Total Players</th>\n",
       "    </tr>\n",
       "  </thead>\n",
       "  <tbody>\n",
       "    <tr>\n",
       "      <th>0</th>\n",
       "      <td>576</td>\n",
       "    </tr>\n",
       "  </tbody>\n",
       "</table>\n",
       "</div>"
      ],
      "text/plain": [
       "   Total Players\n",
       "0            576"
      ]
     },
     "execution_count": 13,
     "metadata": {},
     "output_type": "execute_result"
    }
   ],
   "source": [
    "total_players = purchase_data[\"SN\"].nunique()\n",
    "total_players\n",
    "\n",
    "total_players_clean = pd.DataFrame({\"Total Players\":[total_players]})\n",
    "total_players_clean"
   ]
  },
  {
   "cell_type": "markdown",
   "metadata": {},
   "source": [
    "## Purchasing Analysis (Total)"
   ]
  },
  {
   "cell_type": "markdown",
   "metadata": {},
   "source": [
    "* Run basic calculations to obtain number of unique items, average price, etc.\n",
    "\n",
    "\n",
    "* Create a summary data frame to hold the results\n",
    "\n",
    "\n",
    "* Optional: give the displayed data cleaner formatting\n",
    "\n",
    "\n",
    "* Display the summary data frame\n"
   ]
  },
  {
   "cell_type": "code",
   "execution_count": 14,
   "metadata": {
    "scrolled": true
   },
   "outputs": [
    {
     "data": {
      "text/html": [
       "<style  type=\"text/css\" >\n",
       "</style><table id=\"T_2e187d06_3939_11ec_a9e7_b289db3d9ec7\" ><thead>    <tr>        <th class=\"blank level0\" ></th>        <th class=\"col_heading level0 col0\" >Number of Unique Items</th>        <th class=\"col_heading level0 col1\" >Average Price</th>        <th class=\"col_heading level0 col2\" >Number of Purchases</th>        <th class=\"col_heading level0 col3\" >Total Revenue</th>    </tr></thead><tbody>\n",
       "                <tr>\n",
       "                        <th id=\"T_2e187d06_3939_11ec_a9e7_b289db3d9ec7level0_row0\" class=\"row_heading level0 row0\" >0</th>\n",
       "                        <td id=\"T_2e187d06_3939_11ec_a9e7_b289db3d9ec7row0_col0\" class=\"data row0 col0\" >179</td>\n",
       "                        <td id=\"T_2e187d06_3939_11ec_a9e7_b289db3d9ec7row0_col1\" class=\"data row0 col1\" >$3.05</td>\n",
       "                        <td id=\"T_2e187d06_3939_11ec_a9e7_b289db3d9ec7row0_col2\" class=\"data row0 col2\" >780</td>\n",
       "                        <td id=\"T_2e187d06_3939_11ec_a9e7_b289db3d9ec7row0_col3\" class=\"data row0 col3\" >$2379.77</td>\n",
       "            </tr>\n",
       "    </tbody></table>"
      ],
      "text/plain": [
       "<pandas.io.formats.style.Styler at 0x7f9611e4fc50>"
      ]
     },
     "execution_count": 14,
     "metadata": {},
     "output_type": "execute_result"
    }
   ],
   "source": [
    "unique_items = purchase_data[\"Item ID\"].nunique()\n",
    "unique_items\n",
    "\n",
    "average_price = purchase_data[\"Price\"].mean()\n",
    "average_price\n",
    "\n",
    "average_price_clean =np.round(average_price,2)\n",
    "average_price_clean\n",
    "\n",
    "total_purchase= purchase_data[\"SN\"].count()\n",
    "total_purchase\n",
    "\n",
    "total_revenue= purchase_data[\"Price\"].sum()\n",
    "total_revenue\n",
    "\n",
    "purchase_analysis= pd.DataFrame({\"Number of Unique Items\" :[unique_items],\n",
    "                            \"Average Price\": [average_price_clean],\n",
    "                            \"Number of Purchases\" :[total_purchase],\n",
    "                           \"Total Revenue\":[total_revenue]})\n",
    "purchase_analysis.style.format({\"Average Price\":\"${:.2f}\", \"Total Revenue\":\"${:.2f}\"})"
   ]
  },
  {
   "cell_type": "markdown",
   "metadata": {},
   "source": [
    "## Gender Demographics"
   ]
  },
  {
   "cell_type": "markdown",
   "metadata": {},
   "source": [
    "* Percentage and Count of Male Players\n",
    "\n",
    "\n",
    "* Percentage and Count of Female Players\n",
    "\n",
    "\n",
    "* Percentage and Count of Other / Non-Disclosed\n",
    "\n",
    "\n"
   ]
  },
  {
   "cell_type": "code",
   "execution_count": 17,
   "metadata": {},
   "outputs": [
    {
     "data": {
      "text/html": [
       "<div>\n",
       "<style scoped>\n",
       "    .dataframe tbody tr th:only-of-type {\n",
       "        vertical-align: middle;\n",
       "    }\n",
       "\n",
       "    .dataframe tbody tr th {\n",
       "        vertical-align: top;\n",
       "    }\n",
       "\n",
       "    .dataframe thead th {\n",
       "        text-align: right;\n",
       "    }\n",
       "</style>\n",
       "<table border=\"1\" class=\"dataframe\">\n",
       "  <thead>\n",
       "    <tr style=\"text-align: right;\">\n",
       "      <th></th>\n",
       "      <th>Percentage of Players</th>\n",
       "      <th>Total Count</th>\n",
       "    </tr>\n",
       "    <tr>\n",
       "      <th>Category</th>\n",
       "      <th></th>\n",
       "      <th></th>\n",
       "    </tr>\n",
       "  </thead>\n",
       "  <tbody>\n",
       "    <tr>\n",
       "      <th>Male</th>\n",
       "      <td>113.19</td>\n",
       "      <td>652</td>\n",
       "    </tr>\n",
       "    <tr>\n",
       "      <th>Female</th>\n",
       "      <td>19.62</td>\n",
       "      <td>113</td>\n",
       "    </tr>\n",
       "    <tr>\n",
       "      <th>Other/Non-Disclosed</th>\n",
       "      <td>2.60</td>\n",
       "      <td>15</td>\n",
       "    </tr>\n",
       "  </tbody>\n",
       "</table>\n",
       "</div>"
      ],
      "text/plain": [
       "                     Percentage of Players  Total Count\n",
       "Category                                               \n",
       "Male                                113.19          652\n",
       "Female                               19.62          113\n",
       "Other/Non-Disclosed                   2.60           15"
      ]
     },
     "execution_count": 17,
     "metadata": {},
     "output_type": "execute_result"
    }
   ],
   "source": [
    "all_players_df = purchase_data.loc[purchase_data[\"Gender\"] ==\"Male\"]\n",
    "male_players = len(all_players_df)\n",
    "male_players\n",
    "\n",
    "\n",
    "all_players_df = purchase_data.loc[purchase_data[\"Gender\"] ==\"Female\"]\n",
    "female_players = len(all_players_df)\n",
    "female_players\n",
    "\n",
    "\n",
    "all_players_df = purchase_data.loc[purchase_data[\"Gender\"]== \"Other / Non-Disclosed\"]\n",
    "other_players = len(all_players_df)\n",
    "other_players\n",
    "\n",
    "male_player_percent = male_players / total_players * 100\n",
    "male_player_percent\n",
    "\n",
    "female_player_percent = female_players / total_players * 100\n",
    "female_player_percent\n",
    "\n",
    "other_player_percent = other_players / total_players * 100\n",
    "other_player_percent\n",
    "\n",
    "gender_data_df = pd.DataFrame({\n",
    "        \"Percentage of Players\":[male_player_percent,female_player_percent,other_player_percent],\n",
    "    \"Total Count\":[male_players,female_players,other_players],\n",
    "                  \"Category\":[\"Male\", \"Female\", \"Other/Non-Disclosed\"]}).round(2)\n",
    "\n",
    "gender_data_clean = gender_data_df.set_index(\"Category\")\n",
    "gender_data_clean.head()"
   ]
  },
  {
   "cell_type": "markdown",
   "metadata": {},
   "source": [
    "\n",
    "## Purchasing Analysis (Gender)"
   ]
  },
  {
   "cell_type": "markdown",
   "metadata": {},
   "source": [
    "* Run basic calculations to obtain purchase count, avg. purchase price, avg. purchase total per person etc. by gender\n",
    "\n",
    "\n",
    "\n",
    "\n",
    "* Create a summary data frame to hold the results\n",
    "\n",
    "\n",
    "* Optional: give the displayed data cleaner formatting\n",
    "\n",
    "\n",
    "* Display the summary data frame"
   ]
  },
  {
   "cell_type": "code",
   "execution_count": 21,
   "metadata": {},
   "outputs": [
    {
     "data": {
      "text/html": [
       "<style  type=\"text/css\" >\n",
       "</style><table id=\"T_e21f0d5e_393e_11ec_a1af_b289db3d9ec7\" ><thead>    <tr>        <th class=\"blank level0\" ></th>        <th class=\"col_heading level0 col0\" >Purchase Count</th>        <th class=\"col_heading level0 col1\" >Average Purchase Price</th>        <th class=\"col_heading level0 col2\" >Total Purchase Value</th>        <th class=\"col_heading level0 col3\" >Avg Purchase Total Per Person</th>    </tr>    <tr>        <th class=\"index_name level0\" >Category</th>        <th class=\"blank\" ></th>        <th class=\"blank\" ></th>        <th class=\"blank\" ></th>        <th class=\"blank\" ></th>    </tr></thead><tbody>\n",
       "                <tr>\n",
       "                        <th id=\"T_e21f0d5e_393e_11ec_a1af_b289db3d9ec7level0_row0\" class=\"row_heading level0 row0\" >Male</th>\n",
       "                        <td id=\"T_e21f0d5e_393e_11ec_a1af_b289db3d9ec7row0_col0\" class=\"data row0 col0\" >652</td>\n",
       "                        <td id=\"T_e21f0d5e_393e_11ec_a1af_b289db3d9ec7row0_col1\" class=\"data row0 col1\" >$3.02</td>\n",
       "                        <td id=\"T_e21f0d5e_393e_11ec_a1af_b289db3d9ec7row0_col2\" class=\"data row0 col2\" >$1967.64</td>\n",
       "                        <td id=\"T_e21f0d5e_393e_11ec_a1af_b289db3d9ec7row0_col3\" class=\"data row0 col3\" >$3.02</td>\n",
       "            </tr>\n",
       "            <tr>\n",
       "                        <th id=\"T_e21f0d5e_393e_11ec_a1af_b289db3d9ec7level0_row1\" class=\"row_heading level0 row1\" >Female</th>\n",
       "                        <td id=\"T_e21f0d5e_393e_11ec_a1af_b289db3d9ec7row1_col0\" class=\"data row1 col0\" >113</td>\n",
       "                        <td id=\"T_e21f0d5e_393e_11ec_a1af_b289db3d9ec7row1_col1\" class=\"data row1 col1\" >$3.20</td>\n",
       "                        <td id=\"T_e21f0d5e_393e_11ec_a1af_b289db3d9ec7row1_col2\" class=\"data row1 col2\" >$361.94</td>\n",
       "                        <td id=\"T_e21f0d5e_393e_11ec_a1af_b289db3d9ec7row1_col3\" class=\"data row1 col3\" >$3.20</td>\n",
       "            </tr>\n",
       "            <tr>\n",
       "                        <th id=\"T_e21f0d5e_393e_11ec_a1af_b289db3d9ec7level0_row2\" class=\"row_heading level0 row2\" >Other/Non-Disclosed</th>\n",
       "                        <td id=\"T_e21f0d5e_393e_11ec_a1af_b289db3d9ec7row2_col0\" class=\"data row2 col0\" >15</td>\n",
       "                        <td id=\"T_e21f0d5e_393e_11ec_a1af_b289db3d9ec7row2_col1\" class=\"data row2 col1\" >$3.35</td>\n",
       "                        <td id=\"T_e21f0d5e_393e_11ec_a1af_b289db3d9ec7row2_col2\" class=\"data row2 col2\" >$50.19</td>\n",
       "                        <td id=\"T_e21f0d5e_393e_11ec_a1af_b289db3d9ec7row2_col3\" class=\"data row2 col3\" >$3.35</td>\n",
       "            </tr>\n",
       "    </tbody></table>"
      ],
      "text/plain": [
       "<pandas.io.formats.style.Styler at 0x7f960048f400>"
      ]
     },
     "execution_count": 21,
     "metadata": {},
     "output_type": "execute_result"
    }
   ],
   "source": [
    "avg_df = purchase_data.loc[purchase_data[\"Gender\"] == \"Male\"]\n",
    "avg_df_male = avg_df[\"Price\"].mean()\n",
    "total_purchase_male = avg_df[\"Price\"].sum()\n",
    "avg_df_male\n",
    "total_purchase_male\n",
    "\n",
    "avg_df = purchase_data.loc[purchase_data[\"Gender\"] == \"Female\"]\n",
    "avg_df_female = avg_df[\"Price\"].mean()\n",
    "total_purchase_female = avg_df[\"Price\"].sum()\n",
    "avg_df_female\n",
    "\n",
    "avg_df = purchase_data.loc[purchase_data[\"Gender\"] == \"Other / Non-Disclosed\"]\n",
    "avg_df_others = avg_df[\"Price\"].mean()\n",
    "total_purchase_others = avg_df[\"Price\"].sum()\n",
    "avg_df_others\n",
    "\n",
    "gender_analysis_df = pd.DataFrame({\"Purchase Count\" :[male_players,female_players,other_players],\n",
    "                                      \"Average Purchase Price\" :[avg_df_male, avg_df_female, avg_df_others],\n",
    "                                      \"Total Purchase Value\" : [total_purchase_male, total_purchase_female, total_purchase_others],\n",
    "                                      \"Avg Purchase Total Per Person\" : [total_purchase_male/male_players,total_purchase_female/female_players,total_purchase_others/other_players],\n",
    "                                       \"Category\":[\"Male\", \"Female\", \"Other/Non-Disclosed\"]\n",
    "                                      }).round(2)\n",
    "\n",
    "purchase_analysis_gender_df = gender_analysis_df.set_index(\"Category\")\n",
    "gender_analysis_df = purchase_analysis_gender_df[[\"Purchase Count\", \"Average Purchase Price\",\"Total Purchase Value\",\"Avg Purchase Total Per Person\"]]\n",
    "purchase_analysis_gender_df.style.format({\"Average Purchase Price\":\"${:.2f}\", \"Total Purchase Value\":\"${:.2f}\",\"Avg Purchase Total Per Person\":\"${:.2f}\"})"
   ]
  },
  {
   "cell_type": "markdown",
   "metadata": {},
   "source": [
    "## Age Demographics"
   ]
  },
  {
   "cell_type": "markdown",
   "metadata": {},
   "source": [
    "* Establish bins for ages\n",
    "\n",
    "\n",
    "* Categorize the existing players using the age bins. Hint: use pd.cut()\n",
    "\n",
    "\n",
    "* Calculate the numbers and percentages by age group\n",
    "\n",
    "\n",
    "* Create a summary data frame to hold the results\n",
    "\n",
    "\n",
    "* Optional: round the percentage column to two decimal points\n",
    "\n",
    "\n",
    "* Display Age Demographics Table\n"
   ]
  },
  {
   "cell_type": "code",
   "execution_count": 23,
   "metadata": {},
   "outputs": [
    {
     "data": {
      "text/html": [
       "<div>\n",
       "<style scoped>\n",
       "    .dataframe tbody tr th:only-of-type {\n",
       "        vertical-align: middle;\n",
       "    }\n",
       "\n",
       "    .dataframe tbody tr th {\n",
       "        vertical-align: top;\n",
       "    }\n",
       "\n",
       "    .dataframe thead th {\n",
       "        text-align: right;\n",
       "    }\n",
       "</style>\n",
       "<table border=\"1\" class=\"dataframe\">\n",
       "  <thead>\n",
       "    <tr style=\"text-align: right;\">\n",
       "      <th></th>\n",
       "      <th>Percentage of Players</th>\n",
       "      <th>Total Count</th>\n",
       "    </tr>\n",
       "    <tr>\n",
       "      <th>Age_binning</th>\n",
       "      <th></th>\n",
       "      <th></th>\n",
       "    </tr>\n",
       "  </thead>\n",
       "  <tbody>\n",
       "    <tr>\n",
       "      <th>&lt;10</th>\n",
       "      <td>3.99</td>\n",
       "      <td>23</td>\n",
       "    </tr>\n",
       "    <tr>\n",
       "      <th>10-14</th>\n",
       "      <td>4.86</td>\n",
       "      <td>28</td>\n",
       "    </tr>\n",
       "    <tr>\n",
       "      <th>15-19</th>\n",
       "      <td>23.61</td>\n",
       "      <td>136</td>\n",
       "    </tr>\n",
       "    <tr>\n",
       "      <th>20-24</th>\n",
       "      <td>63.37</td>\n",
       "      <td>365</td>\n",
       "    </tr>\n",
       "    <tr>\n",
       "      <th>25-29</th>\n",
       "      <td>17.53</td>\n",
       "      <td>101</td>\n",
       "    </tr>\n",
       "    <tr>\n",
       "      <th>30-34</th>\n",
       "      <td>12.67</td>\n",
       "      <td>73</td>\n",
       "    </tr>\n",
       "    <tr>\n",
       "      <th>35-39</th>\n",
       "      <td>7.12</td>\n",
       "      <td>41</td>\n",
       "    </tr>\n",
       "    <tr>\n",
       "      <th>40+</th>\n",
       "      <td>2.26</td>\n",
       "      <td>13</td>\n",
       "    </tr>\n",
       "  </tbody>\n",
       "</table>\n",
       "</div>"
      ],
      "text/plain": [
       "             Percentage of Players  Total Count\n",
       "Age_binning                                    \n",
       "<10                           3.99           23\n",
       "10-14                         4.86           28\n",
       "15-19                        23.61          136\n",
       "20-24                        63.37          365\n",
       "25-29                        17.53          101\n",
       "30-34                        12.67           73\n",
       "35-39                         7.12           41\n",
       "40+                           2.26           13"
      ]
     },
     "execution_count": 23,
     "metadata": {},
     "output_type": "execute_result"
    }
   ],
   "source": [
    "purchase_data.dtypes\n",
    "\n",
    "age_demographics_df = purchase_data[\"Age\"].astype(str).astype(int)\n",
    "purchase_data.dtypes\n",
    "\n",
    "age_bins = [0, 9.90, 14.90, 19.90, 24.90, 29.90, 34.90, 39.90, 99999]\n",
    "group_names = [\"<10\", \"10-14\", \"15-19\", \"20-24\", \"25-29\", \"30-34\", \"35-39\", \"40+\"]\n",
    "purchase_data[\"Age_binning\"] = pd.cut(purchase_data[\"Age\"],age_bins, labels = group_names)\n",
    "purchase_data\n",
    "purchase_data.head()\n",
    "\n",
    "bin_group = purchase_data.groupby(\"Age_binning\")\n",
    "\n",
    "totalplayercalc = bin_group[\"Age\"].count()\n",
    "\n",
    "percent = totalplayercalc / 576 * 100\n",
    "age_demo_df = pd.DataFrame({\"Percentage of Players\" :percent,\n",
    "                          \"Total Count\" :totalplayercalc\n",
    "                                 }).round(2)\n",
    "age_demo_df.head()\n",
    "\n",
    "age_demos_clean = age_demo_df.reindex(columns=[\"Percentage of Players\",\"Total Count\"])\n",
    "age_demos_clean"
   ]
  },
  {
   "cell_type": "markdown",
   "metadata": {},
   "source": [
    "## Purchasing Analysis (Age)"
   ]
  },
  {
   "cell_type": "markdown",
   "metadata": {},
   "source": [
    "* Bin the purchase_data data frame by age\n",
    "\n",
    "\n",
    "* Run basic calculations to obtain purchase count, avg. purchase price, avg. purchase total per person etc. in the table below\n",
    "\n",
    "\n",
    "* Create a summary data frame to hold the results\n",
    "\n",
    "\n",
    "* Optional: give the displayed data cleaner formatting\n",
    "\n",
    "\n",
    "* Display the summary data frame"
   ]
  },
  {
   "cell_type": "code",
   "execution_count": 24,
   "metadata": {},
   "outputs": [
    {
     "data": {
      "text/html": [
       "<style  type=\"text/css\" >\n",
       "</style><table id=\"T_6b2a5698_39db_11ec_ab0b_b289db3d9ec7\" ><thead>    <tr>        <th class=\"blank level0\" ></th>        <th class=\"col_heading level0 col0\" >Purchase Count</th>        <th class=\"col_heading level0 col1\" >Average Purchase Price</th>        <th class=\"col_heading level0 col2\" >Total Purchase Value</th>        <th class=\"col_heading level0 col3\" >Average Purchase Total Per Person</th>    </tr>    <tr>        <th class=\"index_name level0\" >Age_binning</th>        <th class=\"blank\" ></th>        <th class=\"blank\" ></th>        <th class=\"blank\" ></th>        <th class=\"blank\" ></th>    </tr></thead><tbody>\n",
       "                <tr>\n",
       "                        <th id=\"T_6b2a5698_39db_11ec_ab0b_b289db3d9ec7level0_row0\" class=\"row_heading level0 row0\" ><10</th>\n",
       "                        <td id=\"T_6b2a5698_39db_11ec_ab0b_b289db3d9ec7row0_col0\" class=\"data row0 col0\" >23</td>\n",
       "                        <td id=\"T_6b2a5698_39db_11ec_ab0b_b289db3d9ec7row0_col1\" class=\"data row0 col1\" >$3.35</td>\n",
       "                        <td id=\"T_6b2a5698_39db_11ec_ab0b_b289db3d9ec7row0_col2\" class=\"data row0 col2\" >$77.13</td>\n",
       "                        <td id=\"T_6b2a5698_39db_11ec_ab0b_b289db3d9ec7row0_col3\" class=\"data row0 col3\" >3.350000</td>\n",
       "            </tr>\n",
       "            <tr>\n",
       "                        <th id=\"T_6b2a5698_39db_11ec_ab0b_b289db3d9ec7level0_row1\" class=\"row_heading level0 row1\" >10-14</th>\n",
       "                        <td id=\"T_6b2a5698_39db_11ec_ab0b_b289db3d9ec7row1_col0\" class=\"data row1 col0\" >28</td>\n",
       "                        <td id=\"T_6b2a5698_39db_11ec_ab0b_b289db3d9ec7row1_col1\" class=\"data row1 col1\" >$2.96</td>\n",
       "                        <td id=\"T_6b2a5698_39db_11ec_ab0b_b289db3d9ec7row1_col2\" class=\"data row1 col2\" >$82.78</td>\n",
       "                        <td id=\"T_6b2a5698_39db_11ec_ab0b_b289db3d9ec7row1_col3\" class=\"data row1 col3\" >2.960000</td>\n",
       "            </tr>\n",
       "            <tr>\n",
       "                        <th id=\"T_6b2a5698_39db_11ec_ab0b_b289db3d9ec7level0_row2\" class=\"row_heading level0 row2\" >15-19</th>\n",
       "                        <td id=\"T_6b2a5698_39db_11ec_ab0b_b289db3d9ec7row2_col0\" class=\"data row2 col0\" >136</td>\n",
       "                        <td id=\"T_6b2a5698_39db_11ec_ab0b_b289db3d9ec7row2_col1\" class=\"data row2 col1\" >$3.04</td>\n",
       "                        <td id=\"T_6b2a5698_39db_11ec_ab0b_b289db3d9ec7row2_col2\" class=\"data row2 col2\" >$412.89</td>\n",
       "                        <td id=\"T_6b2a5698_39db_11ec_ab0b_b289db3d9ec7row2_col3\" class=\"data row2 col3\" >3.040000</td>\n",
       "            </tr>\n",
       "            <tr>\n",
       "                        <th id=\"T_6b2a5698_39db_11ec_ab0b_b289db3d9ec7level0_row3\" class=\"row_heading level0 row3\" >20-24</th>\n",
       "                        <td id=\"T_6b2a5698_39db_11ec_ab0b_b289db3d9ec7row3_col0\" class=\"data row3 col0\" >365</td>\n",
       "                        <td id=\"T_6b2a5698_39db_11ec_ab0b_b289db3d9ec7row3_col1\" class=\"data row3 col1\" >$3.05</td>\n",
       "                        <td id=\"T_6b2a5698_39db_11ec_ab0b_b289db3d9ec7row3_col2\" class=\"data row3 col2\" >$1114.06</td>\n",
       "                        <td id=\"T_6b2a5698_39db_11ec_ab0b_b289db3d9ec7row3_col3\" class=\"data row3 col3\" >3.050000</td>\n",
       "            </tr>\n",
       "            <tr>\n",
       "                        <th id=\"T_6b2a5698_39db_11ec_ab0b_b289db3d9ec7level0_row4\" class=\"row_heading level0 row4\" >25-29</th>\n",
       "                        <td id=\"T_6b2a5698_39db_11ec_ab0b_b289db3d9ec7row4_col0\" class=\"data row4 col0\" >101</td>\n",
       "                        <td id=\"T_6b2a5698_39db_11ec_ab0b_b289db3d9ec7row4_col1\" class=\"data row4 col1\" >$2.90</td>\n",
       "                        <td id=\"T_6b2a5698_39db_11ec_ab0b_b289db3d9ec7row4_col2\" class=\"data row4 col2\" >$293.00</td>\n",
       "                        <td id=\"T_6b2a5698_39db_11ec_ab0b_b289db3d9ec7row4_col3\" class=\"data row4 col3\" >2.900000</td>\n",
       "            </tr>\n",
       "            <tr>\n",
       "                        <th id=\"T_6b2a5698_39db_11ec_ab0b_b289db3d9ec7level0_row5\" class=\"row_heading level0 row5\" >30-34</th>\n",
       "                        <td id=\"T_6b2a5698_39db_11ec_ab0b_b289db3d9ec7row5_col0\" class=\"data row5 col0\" >73</td>\n",
       "                        <td id=\"T_6b2a5698_39db_11ec_ab0b_b289db3d9ec7row5_col1\" class=\"data row5 col1\" >$2.93</td>\n",
       "                        <td id=\"T_6b2a5698_39db_11ec_ab0b_b289db3d9ec7row5_col2\" class=\"data row5 col2\" >$214.00</td>\n",
       "                        <td id=\"T_6b2a5698_39db_11ec_ab0b_b289db3d9ec7row5_col3\" class=\"data row5 col3\" >2.930000</td>\n",
       "            </tr>\n",
       "            <tr>\n",
       "                        <th id=\"T_6b2a5698_39db_11ec_ab0b_b289db3d9ec7level0_row6\" class=\"row_heading level0 row6\" >35-39</th>\n",
       "                        <td id=\"T_6b2a5698_39db_11ec_ab0b_b289db3d9ec7row6_col0\" class=\"data row6 col0\" >41</td>\n",
       "                        <td id=\"T_6b2a5698_39db_11ec_ab0b_b289db3d9ec7row6_col1\" class=\"data row6 col1\" >$3.60</td>\n",
       "                        <td id=\"T_6b2a5698_39db_11ec_ab0b_b289db3d9ec7row6_col2\" class=\"data row6 col2\" >$147.67</td>\n",
       "                        <td id=\"T_6b2a5698_39db_11ec_ab0b_b289db3d9ec7row6_col3\" class=\"data row6 col3\" >3.600000</td>\n",
       "            </tr>\n",
       "            <tr>\n",
       "                        <th id=\"T_6b2a5698_39db_11ec_ab0b_b289db3d9ec7level0_row7\" class=\"row_heading level0 row7\" >40+</th>\n",
       "                        <td id=\"T_6b2a5698_39db_11ec_ab0b_b289db3d9ec7row7_col0\" class=\"data row7 col0\" >13</td>\n",
       "                        <td id=\"T_6b2a5698_39db_11ec_ab0b_b289db3d9ec7row7_col1\" class=\"data row7 col1\" >$2.94</td>\n",
       "                        <td id=\"T_6b2a5698_39db_11ec_ab0b_b289db3d9ec7row7_col2\" class=\"data row7 col2\" >$38.24</td>\n",
       "                        <td id=\"T_6b2a5698_39db_11ec_ab0b_b289db3d9ec7row7_col3\" class=\"data row7 col3\" >2.940000</td>\n",
       "            </tr>\n",
       "    </tbody></table>"
      ],
      "text/plain": [
       "<pandas.io.formats.style.Styler at 0x7f96004b3c18>"
      ]
     },
     "execution_count": 24,
     "metadata": {},
     "output_type": "execute_result"
    }
   ],
   "source": [
    "purchase_data[\"Age_binning\"] = pd.cut(purchase_data[\"Age\"],age_bins, labels = group_names)\n",
    "age_demo_2 = purchase_data.groupby(\"Age_binning\")\n",
    "purchase_count = age_demo_2[\"SN\"].count()\n",
    "avg_purchase_price = age_demo_2[\"Price\"].mean()\n",
    "total_purchase_value = age_demo_2[\"Price\"].sum()\n",
    "avg_purchase_total_per_person= total_purchase_value/purchase_count\n",
    "\n",
    "new_age_df = pd.DataFrame({\"Purchase Count\":purchase_count,\n",
    "                        \"Average Purchase Price\":avg_purchase_price,\n",
    "                        \"Total Purchase Value\":total_purchase_value,\n",
    "                        \"Average Purchase Total Per Person\":avg_purchase_total_per_person}).round(2)\n",
    "new_age_df_1 = new_age_df.reindex(columns=[\"Purchase Count\", \"Average Purchase Price\", \"Total Purchase Value\", \"Average Purchase Total Per Person\"])\n",
    "new_age_df_1.style.format({\"Average Purchase Price\":\"${:.2f}\", \"Total Purchase Value\":\"${:.2f}\",\"Avg Purchase Total Per Person\":\"${:.2f}\"})"
   ]
  },
  {
   "cell_type": "markdown",
   "metadata": {},
   "source": [
    "## Top Spenders"
   ]
  },
  {
   "cell_type": "markdown",
   "metadata": {},
   "source": [
    "* Run basic calculations to obtain the results in the table below\n",
    "\n",
    "\n",
    "* Create a summary data frame to hold the results\n",
    "\n",
    "\n",
    "* Sort the total purchase value column in descending order\n",
    "\n",
    "\n",
    "* Optional: give the displayed data cleaner formatting\n",
    "\n",
    "\n",
    "* Display a preview of the summary data frame\n",
    "\n"
   ]
  },
  {
   "cell_type": "code",
   "execution_count": 26,
   "metadata": {},
   "outputs": [
    {
     "data": {
      "text/html": [
       "<div>\n",
       "<style scoped>\n",
       "    .dataframe tbody tr th:only-of-type {\n",
       "        vertical-align: middle;\n",
       "    }\n",
       "\n",
       "    .dataframe tbody tr th {\n",
       "        vertical-align: top;\n",
       "    }\n",
       "\n",
       "    .dataframe thead th {\n",
       "        text-align: right;\n",
       "    }\n",
       "</style>\n",
       "<table border=\"1\" class=\"dataframe\">\n",
       "  <thead>\n",
       "    <tr style=\"text-align: right;\">\n",
       "      <th></th>\n",
       "      <th>Purchase Count</th>\n",
       "      <th>Average Purchase Price</th>\n",
       "      <th>Total Purchase Value</th>\n",
       "    </tr>\n",
       "    <tr>\n",
       "      <th>SN</th>\n",
       "      <th></th>\n",
       "      <th></th>\n",
       "      <th></th>\n",
       "    </tr>\n",
       "  </thead>\n",
       "  <tbody>\n",
       "    <tr>\n",
       "      <th>Lisosia93</th>\n",
       "      <td>5</td>\n",
       "      <td>3.79</td>\n",
       "      <td>18.96</td>\n",
       "    </tr>\n",
       "    <tr>\n",
       "      <th>Idastidru52</th>\n",
       "      <td>4</td>\n",
       "      <td>3.86</td>\n",
       "      <td>15.45</td>\n",
       "    </tr>\n",
       "    <tr>\n",
       "      <th>Chamjask73</th>\n",
       "      <td>3</td>\n",
       "      <td>4.61</td>\n",
       "      <td>13.83</td>\n",
       "    </tr>\n",
       "    <tr>\n",
       "      <th>Iral74</th>\n",
       "      <td>4</td>\n",
       "      <td>3.40</td>\n",
       "      <td>13.62</td>\n",
       "    </tr>\n",
       "    <tr>\n",
       "      <th>Iskadarya95</th>\n",
       "      <td>3</td>\n",
       "      <td>4.37</td>\n",
       "      <td>13.10</td>\n",
       "    </tr>\n",
       "  </tbody>\n",
       "</table>\n",
       "</div>"
      ],
      "text/plain": [
       "             Purchase Count  Average Purchase Price  Total Purchase Value\n",
       "SN                                                                       \n",
       "Lisosia93                 5                    3.79                 18.96\n",
       "Idastidru52               4                    3.86                 15.45\n",
       "Chamjask73                3                    4.61                 13.83\n",
       "Iral74                    4                    3.40                 13.62\n",
       "Iskadarya95               3                    4.37                 13.10"
      ]
     },
     "execution_count": 26,
     "metadata": {},
     "output_type": "execute_result"
    }
   ],
   "source": [
    "sngrp = purchase_data.groupby(\"SN\")\n",
    "\n",
    "item_id_count = sngrp[\"Price\"].count()\n",
    "avg_pp= sngrp[\"Price\"].mean()\n",
    "total_purchase_val = sngrp[\"Price\"].sum()\n",
    "\n",
    "new_spender_df = pd.DataFrame({\n",
    "                            \"Purchase Count\" :item_id_count,\n",
    "                            \"Average Purchase Price\" :avg_pp,\n",
    "                            \"Total Purchase Value\" : total_purchase_val}).round(2)\n",
    "new_spender_df=new_spender_df.sort_values(by =\"Total Purchase Value\", ascending = False)\n",
    "new_spender_df = new_spender_df.reindex(columns=[\"Purchase Count\",\"Average Purchase Price\",\"Total Purchase Value\"])\n",
    "new_spender_df.style.format({\"Average Purchase Price\":\"${:.2f}\",\"Total Purchase Value\": \"${:.2f}\"})\n",
    "new_spender_df.head()"
   ]
  },
  {
   "cell_type": "markdown",
   "metadata": {},
   "source": [
    "## Most Popular Items"
   ]
  },
  {
   "cell_type": "markdown",
   "metadata": {},
   "source": [
    "* Retrieve the Item ID, Item Name, and Item Price columns\n",
    "\n",
    "\n",
    "* Group by Item ID and Item Name. Perform calculations to obtain purchase count, average item price, and total purchase value\n",
    "\n",
    "\n",
    "* Create a summary data frame to hold the results\n",
    "\n",
    "\n",
    "* Sort the purchase count column in descending order\n",
    "\n",
    "\n",
    "* Optional: give the displayed data cleaner formatting\n",
    "\n",
    "\n",
    "* Display a preview of the summary data frame\n",
    "\n"
   ]
  },
  {
   "cell_type": "code",
   "execution_count": 27,
   "metadata": {},
   "outputs": [
    {
     "data": {
      "text/html": [
       "<div>\n",
       "<style scoped>\n",
       "    .dataframe tbody tr th:only-of-type {\n",
       "        vertical-align: middle;\n",
       "    }\n",
       "\n",
       "    .dataframe tbody tr th {\n",
       "        vertical-align: top;\n",
       "    }\n",
       "\n",
       "    .dataframe thead th {\n",
       "        text-align: right;\n",
       "    }\n",
       "</style>\n",
       "<table border=\"1\" class=\"dataframe\">\n",
       "  <thead>\n",
       "    <tr style=\"text-align: right;\">\n",
       "      <th></th>\n",
       "      <th></th>\n",
       "      <th>Purchase Count</th>\n",
       "      <th>Item Price</th>\n",
       "      <th>Total Purchase Value</th>\n",
       "    </tr>\n",
       "    <tr>\n",
       "      <th>Item ID</th>\n",
       "      <th>Item Name</th>\n",
       "      <th></th>\n",
       "      <th></th>\n",
       "      <th></th>\n",
       "    </tr>\n",
       "  </thead>\n",
       "  <tbody>\n",
       "    <tr>\n",
       "      <th>92</th>\n",
       "      <th>Final Critic</th>\n",
       "      <td>13</td>\n",
       "      <td>[4.88, 4.19]</td>\n",
       "      <td>59.99</td>\n",
       "    </tr>\n",
       "    <tr>\n",
       "      <th>178</th>\n",
       "      <th>Oathbreaker, Last Hope of the Breaking Storm</th>\n",
       "      <td>12</td>\n",
       "      <td>[4.23]</td>\n",
       "      <td>50.76</td>\n",
       "    </tr>\n",
       "    <tr>\n",
       "      <th>82</th>\n",
       "      <th>Nirvana</th>\n",
       "      <td>9</td>\n",
       "      <td>[4.9]</td>\n",
       "      <td>44.10</td>\n",
       "    </tr>\n",
       "    <tr>\n",
       "      <th>145</th>\n",
       "      <th>Fiery Glass Crusader</th>\n",
       "      <td>9</td>\n",
       "      <td>[4.58]</td>\n",
       "      <td>41.22</td>\n",
       "    </tr>\n",
       "    <tr>\n",
       "      <th>108</th>\n",
       "      <th>Extraction, Quickblade Of Trembling Hands</th>\n",
       "      <td>9</td>\n",
       "      <td>[3.53]</td>\n",
       "      <td>31.77</td>\n",
       "    </tr>\n",
       "  </tbody>\n",
       "</table>\n",
       "</div>"
      ],
      "text/plain": [
       "                                                      Purchase Count  \\\n",
       "Item ID Item Name                                                      \n",
       "92      Final Critic                                              13   \n",
       "178     Oathbreaker, Last Hope of the Breaking Storm              12   \n",
       "82      Nirvana                                                    9   \n",
       "145     Fiery Glass Crusader                                       9   \n",
       "108     Extraction, Quickblade Of Trembling Hands                  9   \n",
       "\n",
       "                                                        Item Price  \\\n",
       "Item ID Item Name                                                    \n",
       "92      Final Critic                                  [4.88, 4.19]   \n",
       "178     Oathbreaker, Last Hope of the Breaking Storm        [4.23]   \n",
       "82      Nirvana                                              [4.9]   \n",
       "145     Fiery Glass Crusader                                [4.58]   \n",
       "108     Extraction, Quickblade Of Trembling Hands           [3.53]   \n",
       "\n",
       "                                                      Total Purchase Value  \n",
       "Item ID Item Name                                                           \n",
       "92      Final Critic                                                 59.99  \n",
       "178     Oathbreaker, Last Hope of the Breaking Storm                 50.76  \n",
       "82      Nirvana                                                      44.10  \n",
       "145     Fiery Glass Crusader                                         41.22  \n",
       "108     Extraction, Quickblade Of Trembling Hands                    31.77  "
      ]
     },
     "execution_count": 27,
     "metadata": {},
     "output_type": "execute_result"
    }
   ],
   "source": [
    "sngrp_1 = purchase_data.groupby([\"Item ID\",\"Item Name\"])\n",
    "\n",
    "itemid_1 = sngrp_1[\"Item Name\"].unique\n",
    "itemid_count_1 = sngrp_1[\"Price\"].count()\n",
    "avgpp_1= sngrp_1[\"Price\"].unique()\n",
    "totpv_1 = sngrp_1[\"Price\"].sum()\n",
    "#totpv\n",
    "popular_items = pd.DataFrame({\"Purchase Count\" :itemid_count_1,\n",
    "                            \"Item Price\" :avgpp_1,\n",
    "                            \"Total Purchase Value\" : totpv_1}).round(2)\n",
    "popular_items=popular_items.sort_values([\"Purchase Count\",\"Total Purchase Value\"], ascending = False)\n",
    "popular_items = popular_items.reindex(columns=[\"Purchase Count\",\"Item Price\",\"Total Purchase Value\"])\n",
    "popular_items.head()"
   ]
  },
  {
   "cell_type": "markdown",
   "metadata": {},
   "source": [
    "## Most Profitable Items"
   ]
  },
  {
   "cell_type": "markdown",
   "metadata": {},
   "source": [
    "* Sort the above table by total purchase value in descending order\n",
    "\n",
    "\n",
    "* Optional: give the displayed data cleaner formatting\n",
    "\n",
    "\n",
    "* Display a preview of the data frame\n",
    "\n"
   ]
  },
  {
   "cell_type": "code",
   "execution_count": 28,
   "metadata": {
    "scrolled": true
   },
   "outputs": [
    {
     "data": {
      "text/html": [
       "<div>\n",
       "<style scoped>\n",
       "    .dataframe tbody tr th:only-of-type {\n",
       "        vertical-align: middle;\n",
       "    }\n",
       "\n",
       "    .dataframe tbody tr th {\n",
       "        vertical-align: top;\n",
       "    }\n",
       "\n",
       "    .dataframe thead th {\n",
       "        text-align: right;\n",
       "    }\n",
       "</style>\n",
       "<table border=\"1\" class=\"dataframe\">\n",
       "  <thead>\n",
       "    <tr style=\"text-align: right;\">\n",
       "      <th></th>\n",
       "      <th></th>\n",
       "      <th>Purchase Count</th>\n",
       "      <th>Item Price</th>\n",
       "      <th>Total Purchase Value</th>\n",
       "    </tr>\n",
       "    <tr>\n",
       "      <th>Item ID</th>\n",
       "      <th>Item Name</th>\n",
       "      <th></th>\n",
       "      <th></th>\n",
       "      <th></th>\n",
       "    </tr>\n",
       "  </thead>\n",
       "  <tbody>\n",
       "    <tr>\n",
       "      <th>92</th>\n",
       "      <th>Final Critic</th>\n",
       "      <td>13</td>\n",
       "      <td>[4.88, 4.19]</td>\n",
       "      <td>59.99</td>\n",
       "    </tr>\n",
       "    <tr>\n",
       "      <th>178</th>\n",
       "      <th>Oathbreaker, Last Hope of the Breaking Storm</th>\n",
       "      <td>12</td>\n",
       "      <td>[4.23]</td>\n",
       "      <td>50.76</td>\n",
       "    </tr>\n",
       "    <tr>\n",
       "      <th>82</th>\n",
       "      <th>Nirvana</th>\n",
       "      <td>9</td>\n",
       "      <td>[4.9]</td>\n",
       "      <td>44.10</td>\n",
       "    </tr>\n",
       "    <tr>\n",
       "      <th>145</th>\n",
       "      <th>Fiery Glass Crusader</th>\n",
       "      <td>9</td>\n",
       "      <td>[4.58]</td>\n",
       "      <td>41.22</td>\n",
       "    </tr>\n",
       "    <tr>\n",
       "      <th>103</th>\n",
       "      <th>Singed Scalpel</th>\n",
       "      <td>8</td>\n",
       "      <td>[4.35]</td>\n",
       "      <td>34.80</td>\n",
       "    </tr>\n",
       "  </tbody>\n",
       "</table>\n",
       "</div>"
      ],
      "text/plain": [
       "                                                      Purchase Count  \\\n",
       "Item ID Item Name                                                      \n",
       "92      Final Critic                                              13   \n",
       "178     Oathbreaker, Last Hope of the Breaking Storm              12   \n",
       "82      Nirvana                                                    9   \n",
       "145     Fiery Glass Crusader                                       9   \n",
       "103     Singed Scalpel                                             8   \n",
       "\n",
       "                                                        Item Price  \\\n",
       "Item ID Item Name                                                    \n",
       "92      Final Critic                                  [4.88, 4.19]   \n",
       "178     Oathbreaker, Last Hope of the Breaking Storm        [4.23]   \n",
       "82      Nirvana                                              [4.9]   \n",
       "145     Fiery Glass Crusader                                [4.58]   \n",
       "103     Singed Scalpel                                      [4.35]   \n",
       "\n",
       "                                                      Total Purchase Value  \n",
       "Item ID Item Name                                                           \n",
       "92      Final Critic                                                 59.99  \n",
       "178     Oathbreaker, Last Hope of the Breaking Storm                 50.76  \n",
       "82      Nirvana                                                      44.10  \n",
       "145     Fiery Glass Crusader                                         41.22  \n",
       "103     Singed Scalpel                                               34.80  "
      ]
     },
     "execution_count": 28,
     "metadata": {},
     "output_type": "execute_result"
    }
   ],
   "source": [
    "popular_items=popular_items.sort_values([\"Total Purchase Value\"], ascending = False)\n",
    "popular_items.head(5)"
   ]
  },
  {
   "cell_type": "code",
   "execution_count": null,
   "metadata": {},
   "outputs": [],
   "source": []
  }
 ],
 "metadata": {
  "anaconda-cloud": {},
  "kernel_info": {
   "name": "python3"
  },
  "kernelspec": {
   "display_name": "Python [conda env:PythonData] *",
   "language": "python",
   "name": "conda-env-PythonData-py"
  },
  "language_info": {
   "codemirror_mode": {
    "name": "ipython",
    "version": 3
   },
   "file_extension": ".py",
   "mimetype": "text/x-python",
   "name": "python",
   "nbconvert_exporter": "python",
   "pygments_lexer": "ipython3",
   "version": "3.6.10"
  },
  "latex_envs": {
   "LaTeX_envs_menu_present": true,
   "autoclose": false,
   "autocomplete": true,
   "bibliofile": "biblio.bib",
   "cite_by": "apalike",
   "current_citInitial": 1,
   "eqLabelWithNumbers": true,
   "eqNumInitial": 1,
   "hotkeys": {
    "equation": "Ctrl-E",
    "itemize": "Ctrl-I"
   },
   "labels_anchors": false,
   "latex_user_defs": false,
   "report_style_numbering": false,
   "user_envs_cfg": false
  },
  "nteract": {
   "version": "0.2.0"
  }
 },
 "nbformat": 4,
 "nbformat_minor": 2
}
